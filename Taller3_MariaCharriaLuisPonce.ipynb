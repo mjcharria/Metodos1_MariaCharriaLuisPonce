{
  "cells": [
    {
      "cell_type": "code",
      "execution_count": 58,
      "metadata": {
        "colab": {
          "base_uri": "https://localhost:8080/"
        },
        "id": "8hQ1t37YA_nE",
        "outputId": "6b94221a-154b-4b5a-b6a7-811e11279388"
      },
      "outputs": [
        {
          "output_type": "execute_result",
          "data": {
            "text/plain": [
              "[[4, -2, 1], [20, -7, 12], [-8, 13, 21]]"
            ]
          },
          "metadata": {},
          "execution_count": 58
        }
      ],
      "source": [
        "import numpy as np\n",
        "import sympy as sym\n",
        "from scipy import integrate\n",
        "import matplotlib.pyplot as plt\n",
        "import pandas as pd\n",
        "import os.path as path\n",
        "import urllib.request as urll\n",
        "import math as mt\n",
        "#Algebra lineal\n",
        "#3\n",
        "def multiplicar_matrices(A, B):\n",
        "    d = len(A)\n",
        "    d1 = len(A[0])\n",
        "    d2 = len(B[0])\n",
        "\n",
        "    C = [[0 for _ in range(d1)] for _ in range(d)]\n",
        "    \n",
        "    for i in range(d):\n",
        "        for j in range(d1):\n",
        "            for k in range(d2):\n",
        "                C[i][j] += A[i][k]* B[k][j]\n",
        "    return C\n",
        "\n",
        "A = [[1,0,0],\n",
        "     [5,1,0],\n",
        "     [-2,3,1]]\n",
        "B = [[4,-2,1],\n",
        "     [0,3,7],\n",
        "     [0,0,2]]\n",
        "C = multiplicar_matrices(A,B)\n",
        "C"
      ]
    },
    {
      "cell_type": "code",
      "execution_count": 45,
      "metadata": {
        "id": "cLobzxUvRRcc",
        "colab": {
          "base_uri": "https://localhost:8080/",
          "height": 35
        },
        "outputId": "7daf51e1-a692-4755-f6c3-0301152d1d9a"
      },
      "outputs": [
        {
          "output_type": "execute_result",
          "data": {
            "text/plain": [
              "'DOCUMENTO ADJUNTO A LA ENTREGA'"
            ],
            "application/vnd.google.colaboratory.intrinsic+json": {
              "type": "string"
            }
          },
          "metadata": {},
          "execution_count": 45
        }
      ],
      "source": [
        "#4\n",
        "\"\"\"DOCUMENTO ADJUNTO A LA ENTREGA\"\"\"\n"
      ]
    },
    {
      "cell_type": "markdown",
      "source": [
        "\n",
        "Documento:\n",
        "\n",
        "https://drive.google.com/drive/folders/1VVhvI7W9itw8eTYfyLoklf8FQFmpoyDG?usp=sharing"
      ],
      "metadata": {
        "id": "mjwMc1NykiH2"
      }
    },
    {
      "cell_type": "code",
      "execution_count": 46,
      "metadata": {
        "id": "Covzka21r34q",
        "colab": {
          "base_uri": "https://localhost:8080/",
          "height": 35
        },
        "outputId": "549790a7-e159-419f-8666-a5a6385da8fa"
      },
      "outputs": [
        {
          "output_type": "execute_result",
          "data": {
            "text/plain": [
              "'DOCUMENTO ADJUNTO A LA ENTREGA'"
            ],
            "application/vnd.google.colaboratory.intrinsic+json": {
              "type": "string"
            }
          },
          "metadata": {},
          "execution_count": 46
        }
      ],
      "source": [
        "#5\n",
        "\"\"\"DOCUMENTO ADJUNTO A LA ENTREGA\"\"\""
      ]
    },
    {
      "cell_type": "code",
      "execution_count": 49,
      "metadata": {
        "id": "npUbi7qJRVlx",
        "colab": {
          "base_uri": "https://localhost:8080/"
        },
        "outputId": "733d570d-14b0-46eb-da54-a3cdd3624fd2"
      },
      "outputs": [
        {
          "output_type": "stream",
          "name": "stdout",
          "text": [
            "Optimal relaxation parameter: 0.5\n",
            "Minimum number of iterations: 1\n"
          ]
        }
      ],
      "source": [
        "######################################################################\n",
        "#6\n",
        "# Define the system of equations\n",
        "A = np.array([[3, -1, -1], [-1, 3, 1], [2, 1, 4]])\n",
        "b = np.array([1, 3, 7])\n",
        "\n",
        "# Define the SOR parameters\n",
        "tol = 1e-6\n",
        "max_iter = 1000\n",
        "min_iter = np.inf\n",
        "omega_min = 0.50\n",
        "omega_max = 1.99\n",
        "omega_step = 0.01\n",
        "\n",
        "for omega in np.arange(omega_min, omega_max + omega_step, omega_step):\n",
        "    k = 0\n",
        "    err = np.inf\n",
        "    \n",
        "    A_int = np.array(A, dtype=np.int64)\n",
        "\n",
        "    x = np.zeros_like(b)\n",
        "    while err > tol and k < max_iter:\n",
        "        x_old = x.copy()\n",
        "        for i in range(len(b)):\n",
        "            x1 = omega / np.int64(A_int[i, i])\n",
        "            x11 = np.dot(A_int[i, :i], x[:i])\n",
        "            x12 = np.dot(A_int[i, i+1:], x_old[i+1:])\n",
        "            x13 = x11 - x12\n",
        "            x2 = b[i] - x13\n",
        "            x3 = x1*x2\n",
        "            x4 = (1 - omega) * x_old[i]\n",
        "            x[i] = x4 + x3\n",
        "        error = np.linalg.norm(A @ x - b)\n",
        "        err = np.max(np.abs(x - x_old))\n",
        "        k += 1\n",
        "\n",
        "    if k < min_iter:\n",
        "        opt_omega = omega\n",
        "        min_iter = k\n",
        "\n",
        "print(\"Optimal relaxation parameter:\", opt_omega)\n",
        "print(\"Minimum number of iterations:\", min_iter)"
      ]
    },
    {
      "cell_type": "code",
      "execution_count": 48,
      "metadata": {
        "colab": {
          "base_uri": "https://localhost:8080/"
        },
        "id": "Kvx2krIkRdNB",
        "outputId": "279c7b1d-cdf7-40a6-9502-a4963ed90d7d"
      },
      "outputs": [
        {
          "output_type": "stream",
          "name": "stdout",
          "text": [
            "[[ 1.  0.  0.]\n",
            " [ 5.  1.  0.]\n",
            " [-2.  3.  1.]] \n",
            " [[ 4. -2.  1.]\n",
            " [ 0.  3.  7.]\n",
            " [ 0.  0.  2.]]\n"
          ]
        }
      ],
      "source": [
        "#7\n",
        "def descomposicion_LU(A):\n",
        "    n = len(A)\n",
        "    L = np.zeros((n, n))\n",
        "    U = np.zeros((n, n))\n",
        "    \n",
        "    for i in range(n):\n",
        "        L[i][i] = 1\n",
        "        for j in range(i, n):\n",
        "            total = 0\n",
        "            for k in range(i):\n",
        "                total += L[i][k]*U[k][j]\n",
        "            U[i][j] = A[i][j] - total\n",
        "        for j in range(i + 1, n):\n",
        "            total2 = 0\n",
        "            for k in range(i):\n",
        "                total2 += L[j][k]*U[k][i]\n",
        "            L[j][i] = (A[j][i]- total2)/U[i][i]\n",
        "            \n",
        "    return L, U\n",
        "L, U = descomposicion_LU(C)\n",
        "print(L, \"\\n\", U)"
      ]
    },
    {
      "cell_type": "code",
      "execution_count": 50,
      "metadata": {
        "id": "VngYvxGCRiUw",
        "colab": {
          "base_uri": "https://localhost:8080/"
        },
        "outputId": "1c60512c-4ff1-4f1c-dd95-760c2b057053"
      },
      "outputs": [
        {
          "output_type": "stream",
          "name": "stdout",
          "text": [
            "Valores propios: [6.89510652 3.39729507 1.70759841] Vectores propios: [[ 0.43170413 -0.88573564  0.17059871]\n",
            " [ 0.49725362  0.07589338 -0.86427949]\n",
            " [ 0.75257583  0.45794385  0.47319874]]\n",
            "[6.89510652 3.39729507 1.70759841]\n",
            "[[ 0.43170413  0.88573564  0.17059871]\n",
            " [ 0.49725362 -0.07589338 -0.86427949]\n",
            " [ 0.75257583 -0.45794385  0.47319874]]\n"
          ]
        }
      ],
      "source": [
        "#9\n",
        "\n",
        "def jacobi_rotation(A, tol=1e-6, max_iter=1000):\n",
        "    n = len(A)\n",
        "    values = np.diag(A)\n",
        "    vectors = np.eye(n)\n",
        "\n",
        "    converged = False\n",
        "    iter_count = 0\n",
        "\n",
        "    while not converged and iter_count < max_iter:\n",
        "        max_off_diag = 0.0\n",
        "        p = 0\n",
        "        q = 0\n",
        "\n",
        "        for i in range(n):\n",
        "            for j in range(i + 1, n):\n",
        "                if abs(A[i][j]) > max_off_diag:\n",
        "                    max_off_diag = abs(A[i][j])\n",
        "                    p = i\n",
        "                    q = j\n",
        "\n",
        "        if max_off_diag < tol:\n",
        "            converged = True\n",
        "            break\n",
        "\n",
        "        if A[p][p] == A[q][q]:\n",
        "            theta = np.pi / 4\n",
        "        else:\n",
        "            theta = 0.5 * np.arctan2(2*A[q][p], A[p][p] - A[q][q])\n",
        "\n",
        "        c = np.cos(theta)\n",
        "        s = np.sin(theta)\n",
        "        R = np.eye(n)\n",
        "        R[p][p] = c\n",
        "        R[q][q] = c\n",
        "        R[p][q] = -s\n",
        "        R[q][p] = s\n",
        "        A = R.T @ A @ R\n",
        "        vectors = vectors @ R\n",
        "\n",
        "        iter_count += 1\n",
        "\n",
        "    values = np.diag(A)\n",
        "    return values, vectors\n",
        "\n",
        "A1 = np.array([[4, 1, 1],\n",
        "              [1, 3, 2],\n",
        "              [1, 2, 5]])\n",
        "\n",
        "values, vectors = jacobi_rotation(A1)\n",
        "\n",
        "print(\"Valores propios:\", values, \"Vectores propios:\", vectors)\n",
        "\n",
        "#b\n",
        "\n",
        "g,h = np.linalg.eig(A1)\n",
        "print(g)\n",
        "print(h)"
      ]
    },
    {
      "cell_type": "code",
      "source": [],
      "metadata": {
        "id": "8j8JQrzTfNt0"
      },
      "execution_count": null,
      "outputs": []
    },
    {
      "cell_type": "code",
      "execution_count": 51,
      "metadata": {
        "colab": {
          "base_uri": "https://localhost:8080/"
        },
        "id": "zBGlEFsjRlvD",
        "outputId": "0dfc5575-b8bf-46cb-ac6c-e9d830a5f9cb"
      },
      "outputs": [
        {
          "output_type": "stream",
          "name": "stdout",
          "text": [
            "Valor del estado base E0:\n",
            "0.9999971704213447\n",
            "Vector propio correspondiente:\n",
            "[ 0.40824819 -0.40824882 -0.81649637]\n"
          ]
        }
      ],
      "source": [
        "#10\n",
        "def potencia_inversa(A, tol=1e-6, max_iter=100):\n",
        "    n = len(A)\n",
        "    v = np.random.rand(n)\n",
        "    v /= np.linalg.norm(v)\n",
        "    \n",
        "    for i in range(max_iter):\n",
        "        v_ant = v.copy()\n",
        "        v = np.linalg.solve(A, v)\n",
        "        v /= np.linalg.norm(v)\n",
        "        E0 = np.dot(v, np.dot(A, v))\n",
        "        if np.linalg.norm(v - v_ant) < tol:\n",
        "            break\n",
        "    \n",
        "    return E0, -v\n",
        "\n",
        "A = np.array([[1, 2, -1],\n",
        "              [1, 0, 1],\n",
        "              [4, -4, 5]])\n",
        "\n",
        "E0, v = potencia_inversa(A)\n",
        "print(\"Valor del estado base E0:\")\n",
        "print(E0)\n",
        "print(\"Vector propio correspondiente:\")\n",
        "print(v)"
      ]
    },
    {
      "cell_type": "code",
      "execution_count": 52,
      "metadata": {
        "id": "mxW5MZKHRqmW"
      },
      "outputs": [],
      "source": [
        "################################################################################\n",
        "#12\n",
        "def jacobian(f, x, h=0.01):\n",
        "    \n",
        "    n = x.shape[0]\n",
        "    m = f(x).shape[0]\n",
        "    J = np.zeros((m, n))\n",
        "    \n",
        "    for i in range(n):\n",
        "        # perturb the i-th input variable by h\n",
        "        x_plus = x.copy()\n",
        "        x_plus[i] += h\n",
        "        x_minus = x.copy()\n",
        "        x_minus[i] -= h\n",
        "        \n",
        "        # estimate the i-th column of the Jacobian using the central difference operator of order O(h^4)\n",
        "        J[:, i] = (-f(x_plus) + 8*f(x_plus - h) - 8*f(x_minus + h) + f(x_minus)) / (12*h)\n",
        "    \n",
        "    return J\n",
        "\n",
        "\"\"\"\n",
        "\n",
        "b) Estime el Jacobiano de la función del problema anterior (5.70) en el punto x =   (0.5, 0.5,0.5) con h = 0.01\n",
        "\n",
        "  b1) Definir la función del punto 11 AL, ecuación (5.70)\n",
        "\n",
        "  \"\"\"\n",
        "\n",
        "def f(x,y,z):\n",
        "\n",
        "    X = 6*x - 2*np.cos(y*z)\n",
        "    Y = 9*y + mt.sqrt((x**2) + np.cos(z) + 1.06) + 0.9\n",
        "    Z = 60*z + 3*np.exp(-x*y) + 10*np.pi - 3\n",
        "\n",
        "    return (X,Y,Z)\n",
        "\n",
        "F = f(0.5,0.5,0.5)\n",
        "\n",
        "\n"
      ]
    },
    {
      "cell_type": "code",
      "execution_count": 53,
      "metadata": {
        "id": "pMpCYJ7IRugE",
        "colab": {
          "base_uri": "https://localhost:8080/"
        },
        "outputId": "16d23f27-f7bb-4b0d-dc95-4ec0df277f31"
      },
      "outputs": [
        {
          "output_type": "stream",
          "name": "stdout",
          "text": [
            "[[0 0 0]\n",
            " [0 0 0]\n",
            " [0 0 0]] para i: 1 , j: 1 \n",
            "\n",
            "[[ 0 -1  0]\n",
            " [ 1  0  0]\n",
            " [ 0  0  0]] para i: 1 , j: 2 \n",
            "\n",
            "[[ 0  0 -1]\n",
            " [ 0  0  0]\n",
            " [ 1  0  0]] para i: 1 , j: 3 \n",
            "\n",
            "[[ 0  1  0]\n",
            " [-1  0  0]\n",
            " [ 0  0  0]] para i: 2 , j: 1 \n",
            "\n",
            "[[0 0 0]\n",
            " [0 0 0]\n",
            " [0 0 0]] para i: 2 , j: 2 \n",
            "\n",
            "[[ 0  0  0]\n",
            " [ 0  0 -1]\n",
            " [ 0  1  0]] para i: 2 , j: 3 \n",
            "\n",
            "[[ 0  0  1]\n",
            " [ 0  0  0]\n",
            " [-1  0  0]] para i: 3 , j: 1 \n",
            "\n",
            "[[ 0  0  0]\n",
            " [ 0  0  1]\n",
            " [ 0 -1  0]] para i: 3 , j: 2 \n",
            "\n",
            "[[0 0 0]\n",
            " [0 0 0]\n",
            " [0 0 0]] para i: 3 , j: 3 \n",
            "\n"
          ]
        }
      ],
      "source": [
        "#13\n",
        "\n",
        "J = [[[0,0,0], [0,0,-1], [0,1,0]], [[0,0,1], [0,0,0], [-1,0,0]], [[0,-1,0], [1,0,0], [0,0,0]]]\n",
        "\n",
        "for i in range(3):\n",
        "  for j in range(3):\n",
        "      corchete = np.matmul(J[i],J[j]) - np.matmul(J[j],J[i])\n",
        "      print(corchete, \"para i:\",i+1,\", j:\", j+1 , \"\\n\")\n"
      ]
    },
    {
      "cell_type": "markdown",
      "source": [
        "Como se puede evidenciar en los resultados, cuando i=j el resultado es 0, cuando hay una permutación impar se multiplica por -1 la matriz $J_{k}$ para $k$ diferente a $i$ y $j$. Cuando hay una permutación par el resultado es $J_k$. Esto se resume como $[Ji,Jj] = \\epsilon_{ijk}Jk$, siendo $\\epsilon_{ijk} = 1$ si $(i,j,k) = (1, 2, 3),(2, 3, 1),(3, 1, 2)$, es decir, permutacion par. $\\epsilon_{ijk} = -1$ si $(i,j,k) = (3, 2, 1),(1, 3, 2),(2, 1, 3)$, es decir, permutacion impar. $\\epsilon_{ijk} = 0$ si hay una pareja igual entre i,j o k."
      ],
      "metadata": {
        "id": "L0ON-gih2xdh"
      }
    },
    {
      "cell_type": "code",
      "execution_count": 54,
      "metadata": {
        "id": "t1CUwA_nRvfX",
        "colab": {
          "base_uri": "https://localhost:8080/"
        },
        "outputId": "d7034830-a2a0-4486-a53d-1e0ea7bb0d0a"
      },
      "outputs": [
        {
          "output_type": "stream",
          "name": "stdout",
          "text": [
            "[[0 0]\n",
            " [0 0]] para i: 1 , j: 1 \n",
            "\n",
            "[[0.+2.j 0.+0.j]\n",
            " [0.+0.j 0.-2.j]] para i: 1 , j: 2 \n",
            "\n",
            "[[ 0 -2]\n",
            " [ 2  0]] para i: 1 , j: 3 \n",
            "\n",
            "[[0.-2.j 0.+0.j]\n",
            " [0.+0.j 0.+2.j]] para i: 2 , j: 1 \n",
            "\n",
            "[[0.+0.j 0.+0.j]\n",
            " [0.+0.j 0.+0.j]] para i: 2 , j: 2 \n",
            "\n",
            "[[0.+0.j 0.+2.j]\n",
            " [0.+2.j 0.+0.j]] para i: 2 , j: 3 \n",
            "\n",
            "[[ 0  2]\n",
            " [-2  0]] para i: 3 , j: 1 \n",
            "\n",
            "[[0.+0.j 0.-2.j]\n",
            " [0.-2.j 0.+0.j]] para i: 3 , j: 2 \n",
            "\n",
            "[[0 0]\n",
            " [0 0]] para i: 3 , j: 3 \n",
            "\n"
          ]
        }
      ],
      "source": [
        "#14\n",
        "\n",
        "J = [[[0,1], [1,0]], [[0,complex( 0, -1)], [complex(0,1),0]], [[1,0], [0, -1]]]\n",
        "for i in range(3):\n",
        "  for z in range(3):\n",
        "      corchete = np.matmul(J[i],J[z]) - np.matmul(J[z],J[i])\n",
        "      print(corchete, \"para i:\",i+1,\", j:\", z+1 , \"\\n\")"
      ]
    },
    {
      "cell_type": "markdown",
      "source": [
        "De esta manera, igual que el punto anterior, $[Ji,Jj] = 2i\\epsilon_{ijk}\\sigma_k$, siendo $\\epsilon_{ijk} = 1$ si $(i,j,k) = (1, 2, 3),(2, 3, 1),(3, 1, 2)$, es decir, permutacion par. $\\epsilon_{ijk} = -1$ si $(i,j,k) = (3, 2, 1),(1, 3, 2),(2, 1, 3)$, es decir, permutacion impar. $\\epsilon_{ijk} = 0$ si hay una pareja igual entre i,j o k. En este caso, se puede combrobar que todos los casos cumplen la condicion.\n",
        "\n"
      ],
      "metadata": {
        "id": "Rj6yYEXq6UN4"
      }
    },
    {
      "cell_type": "code",
      "execution_count": 55,
      "metadata": {
        "id": "8RgQFXmURwKc",
        "colab": {
          "base_uri": "https://localhost:8080/"
        },
        "outputId": "6a88e945-3c68-47b2-e11f-86015a4ecc3e"
      },
      "outputs": [
        {
          "output_type": "stream",
          "name": "stdout",
          "text": [
            "[[2 0 0 0]\n",
            " [0 2 0 0]\n",
            " [0 0 2 0]\n",
            " [0 0 0 2]] para i: 1 , j: 1 \n",
            "\n",
            "[[2 0 0 0]\n",
            " [0 2 0 0]\n",
            " [0 0 2 0]\n",
            " [0 0 0 2]] Resultado esperado acertado\n",
            "\n",
            "[[0 0 0 0]\n",
            " [0 0 0 0]\n",
            " [0 0 0 0]\n",
            " [0 0 0 0]] para i: 1 , j: 2 \n",
            "\n",
            "[[0 0 0 0]\n",
            " [0 0 0 0]\n",
            " [0 0 0 0]\n",
            " [0 0 0 0]] Resultado esperado acertado\n",
            "\n",
            "[[0.+0.j 0.+0.j 0.+0.j 0.+0.j]\n",
            " [0.+0.j 0.+0.j 0.+0.j 0.+0.j]\n",
            " [0.+0.j 0.+0.j 0.+0.j 0.+0.j]\n",
            " [0.+0.j 0.+0.j 0.+0.j 0.+0.j]] para i: 1 , j: 3 \n",
            "\n",
            "[[0 0 0 0]\n",
            " [0 0 0 0]\n",
            " [0 0 0 0]\n",
            " [0 0 0 0]] Resultado esperado acertado\n",
            "\n",
            "[[0 0 0 0]\n",
            " [0 0 0 0]\n",
            " [0 0 0 0]\n",
            " [0 0 0 0]] para i: 1 , j: 4 \n",
            "\n",
            "[[0 0 0 0]\n",
            " [0 0 0 0]\n",
            " [0 0 0 0]\n",
            " [0 0 0 0]] Resultado esperado acertado\n",
            "\n",
            "[[0 0 0 0]\n",
            " [0 0 0 0]\n",
            " [0 0 0 0]\n",
            " [0 0 0 0]] para i: 2 , j: 1 \n",
            "\n",
            "[[0 0 0 0]\n",
            " [0 0 0 0]\n",
            " [0 0 0 0]\n",
            " [0 0 0 0]] Resultado esperado acertado\n",
            "\n",
            "[[-2  0  0  0]\n",
            " [ 0 -2  0  0]\n",
            " [ 0  0 -2  0]\n",
            " [ 0  0  0 -2]] para i: 2 , j: 2 \n",
            "\n",
            "[[-2  0  0  0]\n",
            " [ 0 -2  0  0]\n",
            " [ 0  0 -2  0]\n",
            " [ 0  0  0 -2]] Resultado esperado acertado\n",
            "\n",
            "[[0.+0.j 0.+0.j 0.+0.j 0.+0.j]\n",
            " [0.+0.j 0.+0.j 0.+0.j 0.+0.j]\n",
            " [0.+0.j 0.+0.j 0.+0.j 0.+0.j]\n",
            " [0.+0.j 0.+0.j 0.+0.j 0.+0.j]] para i: 2 , j: 3 \n",
            "\n",
            "[[0 0 0 0]\n",
            " [0 0 0 0]\n",
            " [0 0 0 0]\n",
            " [0 0 0 0]] Resultado esperado acertado\n",
            "\n",
            "[[0 0 0 0]\n",
            " [0 0 0 0]\n",
            " [0 0 0 0]\n",
            " [0 0 0 0]] para i: 2 , j: 4 \n",
            "\n",
            "[[0 0 0 0]\n",
            " [0 0 0 0]\n",
            " [0 0 0 0]\n",
            " [0 0 0 0]] Resultado esperado acertado\n",
            "\n",
            "[[0.+0.j 0.+0.j 0.+0.j 0.+0.j]\n",
            " [0.+0.j 0.+0.j 0.+0.j 0.+0.j]\n",
            " [0.+0.j 0.+0.j 0.+0.j 0.+0.j]\n",
            " [0.+0.j 0.+0.j 0.+0.j 0.+0.j]] para i: 3 , j: 1 \n",
            "\n",
            "[[0 0 0 0]\n",
            " [0 0 0 0]\n",
            " [0 0 0 0]\n",
            " [0 0 0 0]] Resultado esperado acertado\n",
            "\n",
            "[[0.+0.j 0.+0.j 0.+0.j 0.+0.j]\n",
            " [0.+0.j 0.+0.j 0.+0.j 0.+0.j]\n",
            " [0.+0.j 0.+0.j 0.+0.j 0.+0.j]\n",
            " [0.+0.j 0.+0.j 0.+0.j 0.+0.j]] para i: 3 , j: 2 \n",
            "\n",
            "[[0 0 0 0]\n",
            " [0 0 0 0]\n",
            " [0 0 0 0]\n",
            " [0 0 0 0]] Resultado esperado acertado\n",
            "\n",
            "[[-2.+0.j  0.+0.j  0.+0.j  0.+0.j]\n",
            " [ 0.+0.j -2.+0.j  0.+0.j  0.+0.j]\n",
            " [ 0.+0.j  0.+0.j -2.+0.j  0.+0.j]\n",
            " [ 0.+0.j  0.+0.j  0.+0.j -2.+0.j]] para i: 3 , j: 3 \n",
            "\n",
            "[[-2  0  0  0]\n",
            " [ 0 -2  0  0]\n",
            " [ 0  0 -2  0]\n",
            " [ 0  0  0 -2]] Resultado esperado acertado\n",
            "\n",
            "[[0.+0.j 0.+0.j 0.+0.j 0.+0.j]\n",
            " [0.+0.j 0.+0.j 0.+0.j 0.+0.j]\n",
            " [0.+0.j 0.+0.j 0.+0.j 0.+0.j]\n",
            " [0.+0.j 0.+0.j 0.+0.j 0.+0.j]] para i: 3 , j: 4 \n",
            "\n",
            "[[0 0 0 0]\n",
            " [0 0 0 0]\n",
            " [0 0 0 0]\n",
            " [0 0 0 0]] Resultado esperado acertado\n",
            "\n",
            "[[0 0 0 0]\n",
            " [0 0 0 0]\n",
            " [0 0 0 0]\n",
            " [0 0 0 0]] para i: 4 , j: 1 \n",
            "\n",
            "[[0 0 0 0]\n",
            " [0 0 0 0]\n",
            " [0 0 0 0]\n",
            " [0 0 0 0]] Resultado esperado acertado\n",
            "\n",
            "[[0 0 0 0]\n",
            " [0 0 0 0]\n",
            " [0 0 0 0]\n",
            " [0 0 0 0]] para i: 4 , j: 2 \n",
            "\n",
            "[[0 0 0 0]\n",
            " [0 0 0 0]\n",
            " [0 0 0 0]\n",
            " [0 0 0 0]] Resultado esperado acertado\n",
            "\n",
            "[[0.+0.j 0.+0.j 0.+0.j 0.+0.j]\n",
            " [0.+0.j 0.+0.j 0.+0.j 0.+0.j]\n",
            " [0.+0.j 0.+0.j 0.+0.j 0.+0.j]\n",
            " [0.+0.j 0.+0.j 0.+0.j 0.+0.j]] para i: 4 , j: 3 \n",
            "\n",
            "[[0 0 0 0]\n",
            " [0 0 0 0]\n",
            " [0 0 0 0]\n",
            " [0 0 0 0]] Resultado esperado acertado\n",
            "\n",
            "[[-2  0  0  0]\n",
            " [ 0 -2  0  0]\n",
            " [ 0  0 -2  0]\n",
            " [ 0  0  0 -2]] para i: 4 , j: 4 \n",
            "\n",
            "[[-2  0  0  0]\n",
            " [ 0 -2  0  0]\n",
            " [ 0  0 -2  0]\n",
            " [ 0  0  0 -2]] Resultado esperado acertado\n",
            "\n"
          ]
        }
      ],
      "source": [
        "#15\n",
        "\n",
        "\n",
        "J = [[[1,0,0,0], [0,1,0,0], [0,0,-1,0], [0,0,0,-1]],[[0,0,0,1], [0,0,1,0], [0,-1,0,0], [-1,0,0,0]], [[0,0,0, complex(0,-1)], [0,0,complex(0,1), 0], [0,complex(0,1), 0,0], [complex(0,-1), 0,0,0]], [[0,0,1,0], [0,0,0, -1], [-1,0,0,0], [0,1,0,0]]]\n",
        "for i in range(4):\n",
        "  for z in range(4):\n",
        "      corchete = np.matmul(J[i],J[z]) + np.matmul(J[z],J[i])\n",
        "      print(corchete, \"para i:\",i+1,\", j:\", z+1 , \"\\n\")\n",
        "      diag = [[1,0,0,0], [0,-1,0,0], [0,0,-1,0], [0,0,0,-1]]\n",
        "      ident = [[1,0,0,0], [0,1,0,0], [0,0,1,0], [0,0,0,1]]\n",
        "      comp = np.multiply(2*diag[i][z], ident)\n",
        "      if comp.all() == corchete.all():\n",
        "        print(comp, \"Resultado esperado acertado\\n\")\n"
      ]
    },
    {
      "cell_type": "markdown",
      "source": [
        "En el codigo se verifica y se evidencia que las relaciones mencionadas se cumplen."
      ],
      "metadata": {
        "id": "3pgDi06djrh5"
      }
    },
    {
      "cell_type": "markdown",
      "source": [
        "Como en los puntos anteriores, los resultados cumplen las condiciones especificadas."
      ],
      "metadata": {
        "id": "-xhZGvUgBous"
      }
    },
    {
      "cell_type": "code",
      "execution_count": 56,
      "metadata": {
        "colab": {
          "base_uri": "https://localhost:8080/",
          "height": 984
        },
        "id": "OVdhIAO-RxOM",
        "outputId": "2cf171c8-acb9-4e8b-bdeb-0003435597d4"
      },
      "outputs": [
        {
          "output_type": "stream",
          "name": "stdout",
          "text": [
            "0.4285714285714286 1.4285714285714286\n",
            "Lo que se quiere decir es que, en este caso, no hay un solo punto donde las tres rectas se crucen exactamente. En cambio, el método de mínimos cuadrados encuentra el punto que está más cercano a las tres rectas en términos de distancia, lo que puede interpretarse como una \"mejor aproximación\" de un punto común de las tres rectas.\n",
            "Después de analizar los resultados obtenidos mediante el método del mínimo cuadrado y la búsqueda iterativa, se ha determinado que dicho punto es aquel que se encuentra a la menor distancia de los tres puntos evaluados. En consecuencia, podemos afirmar que ese el punto en cuestión es:  [0.42168675 1.42570281]\n"
          ]
        },
        {
          "output_type": "display_data",
          "data": {
            "text/plain": [
              "<Figure size 640x480 with 1 Axes>"
            ],
            "image/png": "[encoded data removed]"
          },
          "metadata": {}
        },
        {
          "output_type": "display_data",
          "data": {
            "text/plain": [
              "<Figure size 600x600 with 1 Axes>"
            ],
            "image/png": "[encoded data removed]"
          },
          "metadata": {}
        }
      ],
      "source": [
        "#Mínimos Cuadrados\n",
        "#1\n",
        "\"\"\"a) Mínimos cuadrados.\"\"\"\n",
        "def f1(x):\n",
        "    return 2*x -2\n",
        "def f2(x):\n",
        "    return 1/2 - x/2\n",
        "def f3(x):\n",
        "    return 4 - x\n",
        "\n",
        "#Se define la matriz basada en el sistema de ecuaciones\n",
        "A = [[2,-1],\n",
        "     [1,2],\n",
        "     [1,1]]\n",
        "#Se define el vector columna correspondiente al sistema de ecuaciones\n",
        "b = [2,1,4]\n",
        "\n",
        "\n",
        "A = np.array(A)\n",
        "b = np.array(b)\n",
        "\n",
        "AT = np.dot(A.T,A)\n",
        "bT = np.dot(A.T,b)    \n",
        "xsol = np.linalg.solve(AT,bT)\n",
        "print(xsol[1],xsol[0])\n",
        "\n",
        "x = range(-5,5)\n",
        "\n",
        "plt.grid()\n",
        "plt.plot(x,[f1(i) for i in x])\n",
        "plt.plot(x,[f2(i) for i in x])\n",
        "plt.plot(x,[f3(i) for i in x])\n",
        "plt.scatter(xsol[1],xsol[0],color='r')\n",
        "plt.xlim(-5,5)\n",
        "plt.ylim(-5,5)\n",
        "print('Lo que se quiere decir es que, en este caso, no hay un solo punto donde las tres rectas se crucen exactamente. En cambio, el método de mínimos cuadrados encuentra el punto que está más cercano a las tres rectas en términos de distancia, lo que puede interpretarse como una \"mejor aproximación\" de un punto común de las tres rectas.')\n",
        "\n",
        "\"\"\"-------------------------------------------------\"\"\"\n",
        "\n",
        "N=499\n",
        "x=np.linspace(-5,5,N)\n",
        "y=np.copy(x)\n",
        "\n",
        "Puntos=np.zeros((N,N))\n",
        "xx,yy=np.meshgrid(x,y)\n",
        "\n",
        "for j in range(len(y)):\n",
        "    for i in range(len(x)):   \n",
        "        p=np.array([x[i],y[j]])\n",
        "        Puntos[i,j]=np.linalg.norm(np.dot(A,p)-b)\n",
        "        \n",
        "\n",
        "Min=np.min(Puntos)\n",
        "\n",
        "j,i=np.where(Puntos==Min)\n",
        "\n",
        "P_minimo=np.array([float(x[i]),float(y[j])])\n",
        "\n",
        "fig = plt.figure(figsize=(6,6))\n",
        "ax1 = fig.add_subplot(111, projection = '3d')\n",
        "\n",
        "ax1.set_xlim3d(-5, 5)\n",
        "ax1.set_ylim3d(-5, 5)\n",
        "ax1.set_zlim3d(0, 20)\n",
        "\n",
        "ax1.set_zlabel(\"d(x,y)\")\n",
        "ax1.set_xlabel(\"x\")\n",
        "ax1.set_ylabel(\"y\")\n",
        "ax1.view_init(20, 45)\n",
        "\n",
        "ax1.scatter(xx,yy,Puntos, c = Puntos, cmap= \"RdBu_r\",alpha=0.1)\n",
        "ax1.scatter(P_minimo[0],P_minimo[1],color=\"r\",s=40)\n",
        "\n",
        "ax1.grid()\n",
        "\n",
        "print('Después de analizar los resultados obtenidos mediante el método del mínimo cuadrado y la búsqueda iterativa, se ha determinado que dicho punto es aquel que se encuentra a la menor distancia de los tres puntos evaluados. En consecuencia, podemos afirmar que ese el punto en cuestión es: ',P_minimo)"
      ]
    },
    {
      "cell_type": "code",
      "execution_count": null,
      "metadata": {
        "id": "alVmXVKjR1QK",
        "colab": {
          "base_uri": "https://localhost:8080/",
          "height": 36
        },
        "outputId": "c952f2db-6cb4-4bac-91c4-e948e73eee32"
      },
      "outputs": [
        {
          "output_type": "execute_result",
          "data": {
            "text/plain": [
              "'DOCUMENTO ADJUNTO A LA ENTREGA'"
            ],
            "application/vnd.google.colaboratory.intrinsic+json": {
              "type": "string"
            }
          },
          "metadata": {},
          "execution_count": 33
        }
      ],
      "source": [
        "#6\n",
        "\"\"\"DOCUMENTO ADJUNTO A LA ENTREGA\"\"\"   "
      ]
    },
    {
      "cell_type": "code",
      "execution_count": 57,
      "metadata": {
        "colab": {
          "base_uri": "https://localhost:8080/",
          "height": 499
        },
        "id": "cUvBvX-QR2SC",
        "outputId": "d811a49d-529b-429b-da05-2b0caf2ba6d1"
      },
      "outputs": [
        {
          "output_type": "stream",
          "name": "stdout",
          "text": [
            "[1 1 1]\n",
            "Entrenamiento en curso...\n",
            " Máximo de iteraciones alcanzado  0.045898487738870064\n",
            "parámetros:  [4.35688088 0.96529898 2.79303697]\n"
          ]
        },
        {
          "output_type": "display_data",
          "data": {
            "text/plain": [
              "<Figure size 640x480 with 1 Axes>"
            ],
            "image/png": "[encoded data removed]"
          },
          "metadata": {}
        }
      ],
      "source": [
        "#7\n",
        "url = 'https://raw.githubusercontent.com/asegura4488/Database/main/MetodosComputacionalesReforma/Sigmoid.csv'\n",
        "data = np.loadtxt(url,dtype=float,delimiter=\",\",skiprows=1)\n",
        "\n",
        "x = data[:,0]\n",
        "y = data[:,1]\n",
        "N = len(x)\n",
        "\n",
        "\"\"\"\n",
        "a) Defina el modelo de ajuste\n",
        "\"\"\"\n",
        "\n",
        "def M(x,p):\n",
        "    return p[0]/(p[1]+np.exp(-p[2]*x))\n",
        "\n",
        "\"\"\"\n",
        "b)Defina la métrica (función de costo) a minimizar\n",
        "\"\"\"\n",
        "\n",
        "def X2(p,x,y):\n",
        "    term= y-M(x,p)\n",
        "    return np.sum(term**2)\n",
        "\n",
        "\"\"\"\n",
        "c y d) LA PARTE ANALÍTICA ESTÁ EN UN DOCUMENTO ADJUNTO A LA ENTREGA\n",
        "\"\"\"\n",
        "\"\"\"\n",
        "e) Use una taza de aprendizaje γ = 1 × 10^−3 o γ = 5 × 10^−4,~θ0 = [1, 1, 1], un error de parada \u000f= 0.01 y un máximo de iteraciones de 1 × 10^4\n",
        "\"\"\"\n",
        "\n",
        "par0=np.array([1,1,1])\n",
        "print(par0)\n",
        "\n",
        "def GetGrad(M,p,x,h=1e-6):\n",
        "    \n",
        "    dim=len(p)\n",
        "    J = np.zeros(dim)\n",
        "    \n",
        "    for j in range(dim):\n",
        "        h_=np.zeros(dim)\n",
        "        \n",
        "        h_[j]=h\n",
        "           \n",
        "        J[j] = (  M(x,p+h_) - M(x,p-h_) )/(2*h)\n",
        "\n",
        "    return J\n",
        "\n",
        "def DescGrad(M,p,x,y,lr=1e-3,epochs=int(1e4),error=1e-2):\n",
        "    \n",
        "    d = 1\n",
        "    it = 0\n",
        "    \n",
        "    print(\"Entrenamiento en curso...\")\n",
        "\n",
        "    while d > error and it < epochs:\n",
        "        \n",
        "        CurrentMe = X2(p,x,y)\n",
        "        Sum=0\n",
        "        \n",
        "        #Machine Learning\n",
        "        for i in range(len(y)):\n",
        "            Sum += (y[i]-M(x[i],p))*GetGrad(M,p,x[i])\n",
        "            \n",
        "        p = p - lr*(-2)*Sum\n",
        "        \n",
        "        NewMe = X2(p,x,y)\n",
        "\n",
        "        d= np.abs(CurrentMe-NewMe)/NewMe\n",
        "        d=np.sqrt(NewMe/len(y))\n",
        "  \n",
        "        it += 1\n",
        "        \n",
        "    if d < error:\n",
        "        print(' Entrenamiento completo ', d, 'iteraciones', it)\n",
        "        \n",
        "    if it == epochs:\n",
        "        print(' Máximo de iteraciones alcanzado ',d)\n",
        "        \n",
        "    return p,it\n",
        "\n",
        "par,num_it=DescGrad(M,par0,x,y)\n",
        "print(\"parámetros: \",par)\n",
        "\n",
        "\"\"\"\n",
        "f) Grafique los datos y the best fit model con sus parámetros.\n",
        "\"\"\"\n",
        "\n",
        "X=np.linspace(-10,10,120)\n",
        "plt.scatter(x,y)\n",
        "plt.plot(X,M(X,par),color=\"k\")\n",
        "plt.show()"
      ]
    }
  ],
  "metadata": {
    "colab": {
      "provenance": []
    },
    "kernelspec": {
      "display_name": "Python 3",
      "name": "python3"
    },
    "language_info": {
      "name": "python"
    }
  },
  "nbformat": 4,
  "nbformat_minor": 0
}